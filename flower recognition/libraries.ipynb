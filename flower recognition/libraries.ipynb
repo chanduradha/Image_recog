{
 "cells": [
  {
   "cell_type": "code",
   "execution_count": 4,
   "id": "b8c8874f",
   "metadata": {},
   "outputs": [],
   "source": [
    "#Importing libraries"
   ]
  },
  {
   "cell_type": "code",
   "execution_count": 1,
   "id": "e553d667",
   "metadata": {},
   "outputs": [],
   "source": [
    "import numpy as np\n",
    "import cv2\n",
    "import tensorflow as tf\n",
    "from keras.preprocessing.image import ImageDataGenerator"
   ]
  },
  {
   "cell_type": "code",
   "execution_count": 2,
   "id": "c93f1cac",
   "metadata": {},
   "outputs": [],
   "source": [
    "#Data Preprocessing"
   ]
  },
  {
   "cell_type": "code",
   "execution_count": 3,
   "id": "a61e8152",
   "metadata": {},
   "outputs": [],
   "source": [
    "#Training Image processing"
   ]
  },
  {
   "cell_type": "code",
   "execution_count": 4,
   "id": "a3214eb8",
   "metadata": {},
   "outputs": [
    {
     "name": "stdout",
     "output_type": "stream",
     "text": [
      "Found 3885 images belonging to 5 classes.\n"
     ]
    }
   ],
   "source": [
    "train_datagen = ImageDataGenerator(\n",
    "        rescale=1./255,\n",
    "        shear_range=0.2,\n",
    "        zoom_range=0.2,\n",
    "        horizontal_flip=True)\n",
    "training_set = train_datagen.flow_from_directory(\n",
    "        'training_set',\n",
    "        target_size=(64, 64),\n",
    "        batch_size=32,\n",
    "        class_mode='categorical')"
   ]
  },
  {
   "cell_type": "code",
   "execution_count": 5,
   "id": "7c773f6c",
   "metadata": {},
   "outputs": [],
   "source": [
    "#Test Image processing"
   ]
  },
  {
   "cell_type": "code",
   "execution_count": 6,
   "id": "65fade44",
   "metadata": {},
   "outputs": [
    {
     "name": "stdout",
     "output_type": "stream",
     "text": [
      "Found 4317 images belonging to 5 classes.\n"
     ]
    }
   ],
   "source": [
    "test_datagen = ImageDataGenerator(rescale=1./255)\n",
    "test_set = test_datagen.flow_from_directory(\n",
    "        'test_set',\n",
    "        target_size=(64, 64),\n",
    "        batch_size=32,\n",
    "        class_mode='categorical')"
   ]
  },
  {
   "cell_type": "code",
   "execution_count": 7,
   "id": "3ab99142",
   "metadata": {},
   "outputs": [],
   "source": [
    "#Building Model"
   ]
  },
  {
   "cell_type": "code",
   "execution_count": 8,
   "id": "235f71ad",
   "metadata": {},
   "outputs": [],
   "source": [
    "cnn = tf.keras.models.Sequential()"
   ]
  },
  {
   "cell_type": "code",
   "execution_count": 9,
   "id": "407f8584",
   "metadata": {},
   "outputs": [],
   "source": [
    "#Building Convolution layer"
   ]
  },
  {
   "cell_type": "code",
   "execution_count": 10,
   "id": "77acdfa9",
   "metadata": {},
   "outputs": [],
   "source": [
    "cnn.add(tf.keras.layers.Conv2D(filters=64,kernel_size=3,activation='relu',input_shape=[64,64,3]))\n",
    "cnn.add(tf.keras.layers.MaxPool2D(pool_size=2,strides=2))"
   ]
  },
  {
   "cell_type": "code",
   "execution_count": 11,
   "id": "716bf79f",
   "metadata": {},
   "outputs": [],
   "source": [
    "cnn.add(tf.keras.layers.Conv2D(filters=64,kernel_size=3,activation='relu'))\n",
    "cnn.add(tf.keras.layers.MaxPool2D(pool_size=2,strides=2))"
   ]
  },
  {
   "cell_type": "code",
   "execution_count": 12,
   "id": "95504b72",
   "metadata": {},
   "outputs": [],
   "source": [
    "cnn.add(tf.keras.layers.Dropout(0.5))"
   ]
  },
  {
   "cell_type": "code",
   "execution_count": 13,
   "id": "98dd6fa0",
   "metadata": {},
   "outputs": [],
   "source": [
    "cnn.add(tf.keras.layers.Flatten())"
   ]
  },
  {
   "cell_type": "code",
   "execution_count": 14,
   "id": "82019e58",
   "metadata": {},
   "outputs": [],
   "source": [
    "cnn.add(tf.keras.layers.Dense(units=128, activation='relu'))"
   ]
  },
  {
   "cell_type": "code",
   "execution_count": 15,
   "id": "f5d78a52",
   "metadata": {},
   "outputs": [],
   "source": [
    "cnn.add(tf.keras.layers.Dense(units=5 , activation='softmax'))"
   ]
  },
  {
   "cell_type": "code",
   "execution_count": 16,
   "id": "90c53d4f",
   "metadata": {},
   "outputs": [],
   "source": [
    "cnn.compile(optimizer = 'rmsprop' , loss = 'categorical_crossentropy' , metrics = ['accuracy'])"
   ]
  },
  {
   "cell_type": "code",
   "execution_count": 21,
   "id": "c1c69a4c",
   "metadata": {},
   "outputs": [
    {
     "name": "stdout",
     "output_type": "stream",
     "text": [
      "Epoch 1/30\n",
      "122/122 [==============================] - 23s 185ms/step - loss: 1.3488 - accuracy: 0.4126 - val_loss: 1.0910 - val_accuracy: 0.5705\n",
      "Epoch 2/30\n",
      "122/122 [==============================] - 20s 161ms/step - loss: 1.1053 - accuracy: 0.5634 - val_loss: 0.9989 - val_accuracy: 0.6159\n",
      "Epoch 3/30\n",
      "122/122 [==============================] - 20s 166ms/step - loss: 0.9947 - accuracy: 0.6147 - val_loss: 0.8524 - val_accuracy: 0.6704\n",
      "Epoch 4/30\n",
      "122/122 [==============================] - 21s 170ms/step - loss: 0.9174 - accuracy: 0.6391 - val_loss: 0.8159 - val_accuracy: 0.6789\n",
      "Epoch 5/30\n",
      "122/122 [==============================] - 21s 169ms/step - loss: 0.8661 - accuracy: 0.6615 - val_loss: 0.7978 - val_accuracy: 0.6956\n",
      "Epoch 6/30\n",
      "122/122 [==============================] - 20s 168ms/step - loss: 0.8146 - accuracy: 0.6875 - val_loss: 0.8279 - val_accuracy: 0.6891\n",
      "Epoch 7/30\n",
      "122/122 [==============================] - 20s 168ms/step - loss: 0.7941 - accuracy: 0.6932 - val_loss: 0.6653 - val_accuracy: 0.7501\n",
      "Epoch 8/30\n",
      "122/122 [==============================] - 20s 168ms/step - loss: 0.7469 - accuracy: 0.7236 - val_loss: 0.6456 - val_accuracy: 0.7491\n",
      "Epoch 9/30\n",
      "122/122 [==============================] - 21s 169ms/step - loss: 0.7205 - accuracy: 0.7202 - val_loss: 0.6313 - val_accuracy: 0.7665\n",
      "Epoch 10/30\n",
      "122/122 [==============================] - 21s 169ms/step - loss: 0.6956 - accuracy: 0.7377 - val_loss: 0.6103 - val_accuracy: 0.7656\n",
      "Epoch 11/30\n",
      "122/122 [==============================] - 21s 170ms/step - loss: 0.6668 - accuracy: 0.7421 - val_loss: 0.5347 - val_accuracy: 0.8066\n",
      "Epoch 12/30\n",
      "122/122 [==============================] - 21s 173ms/step - loss: 0.6480 - accuracy: 0.7465 - val_loss: 0.5931 - val_accuracy: 0.7779\n",
      "Epoch 13/30\n",
      "122/122 [==============================] - 21s 170ms/step - loss: 0.6331 - accuracy: 0.7655 - val_loss: 0.5661 - val_accuracy: 0.7941\n",
      "Epoch 14/30\n",
      "122/122 [==============================] - 21s 174ms/step - loss: 0.6108 - accuracy: 0.7676 - val_loss: 0.5474 - val_accuracy: 0.7904\n",
      "Epoch 15/30\n",
      "122/122 [==============================] - 21s 171ms/step - loss: 0.5781 - accuracy: 0.7755 - val_loss: 0.5776 - val_accuracy: 0.7922\n",
      "Epoch 16/30\n",
      "122/122 [==============================] - 20s 168ms/step - loss: 0.5734 - accuracy: 0.7784 - val_loss: 0.4125 - val_accuracy: 0.8564\n",
      "Epoch 17/30\n",
      "122/122 [==============================] - 20s 167ms/step - loss: 0.5604 - accuracy: 0.7835 - val_loss: 0.4961 - val_accuracy: 0.8249\n",
      "Epoch 18/30\n",
      "122/122 [==============================] - 21s 169ms/step - loss: 0.5490 - accuracy: 0.7923 - val_loss: 0.4602 - val_accuracy: 0.8392\n",
      "Epoch 19/30\n",
      "122/122 [==============================] - 20s 168ms/step - loss: 0.5136 - accuracy: 0.8103 - val_loss: 0.7079 - val_accuracy: 0.7299\n",
      "Epoch 20/30\n",
      "122/122 [==============================] - 20s 168ms/step - loss: 0.5263 - accuracy: 0.8088 - val_loss: 0.4504 - val_accuracy: 0.8376\n",
      "Epoch 21/30\n",
      "122/122 [==============================] - 21s 170ms/step - loss: 0.4860 - accuracy: 0.8257 - val_loss: 0.4948 - val_accuracy: 0.8221\n",
      "Epoch 22/30\n",
      "122/122 [==============================] - 20s 168ms/step - loss: 0.4965 - accuracy: 0.8178 - val_loss: 0.3498 - val_accuracy: 0.8805\n",
      "Epoch 23/30\n",
      "122/122 [==============================] - 20s 167ms/step - loss: 0.4719 - accuracy: 0.8242 - val_loss: 0.4455 - val_accuracy: 0.8453\n",
      "Epoch 24/30\n",
      "122/122 [==============================] - 20s 167ms/step - loss: 0.4770 - accuracy: 0.8268 - val_loss: 0.3866 - val_accuracy: 0.8673\n",
      "Epoch 25/30\n",
      "122/122 [==============================] - 20s 168ms/step - loss: 0.4329 - accuracy: 0.8497 - val_loss: 0.3465 - val_accuracy: 0.8863\n",
      "Epoch 26/30\n",
      "122/122 [==============================] - 20s 167ms/step - loss: 0.4369 - accuracy: 0.8414 - val_loss: 0.3251 - val_accuracy: 0.8965\n",
      "Epoch 27/30\n",
      "122/122 [==============================] - 21s 172ms/step - loss: 0.4181 - accuracy: 0.8489 - val_loss: 0.3379 - val_accuracy: 0.8895\n",
      "Epoch 28/30\n",
      "122/122 [==============================] - 21s 169ms/step - loss: 0.4211 - accuracy: 0.8484 - val_loss: 0.2822 - val_accuracy: 0.9148\n",
      "Epoch 29/30\n",
      "122/122 [==============================] - 20s 167ms/step - loss: 0.3859 - accuracy: 0.8602 - val_loss: 0.3320 - val_accuracy: 0.8916\n",
      "Epoch 30/30\n",
      "122/122 [==============================] - 20s 167ms/step - loss: 0.3960 - accuracy: 0.8589 - val_loss: 0.2793 - val_accuracy: 0.9085\n"
     ]
    },
    {
     "data": {
      "text/plain": [
       "<keras.src.callbacks.History at 0x14ffc137850>"
      ]
     },
     "execution_count": 21,
     "metadata": {},
     "output_type": "execute_result"
    }
   ],
   "source": [
    "cnn.fit(x = training_set , validation_data = test_set , epochs = 30)"
   ]
  },
  {
   "cell_type": "code",
   "execution_count": 29,
   "id": "fe063aea",
   "metadata": {},
   "outputs": [],
   "source": [
    "#Preprocess New Image"
   ]
  },
  {
   "cell_type": "code",
   "execution_count": 30,
   "id": "1dac3137",
   "metadata": {},
   "outputs": [
    {
     "name": "stdout",
     "output_type": "stream",
     "text": [
      "1/1 [==============================] - 0s 17ms/step\n"
     ]
    },
    {
     "data": {
      "text/plain": [
       "{'daisy': 0, 'dandelion': 1, 'rose': 2, 'sunflower': 3, 'tulip': 4}"
      ]
     },
     "execution_count": 30,
     "metadata": {},
     "output_type": "execute_result"
    }
   ],
   "source": [
    "from keras.preprocessing import image\n",
    "test_image = image.load_img('Prediction/tulip1.jpg',target_size=(64,64))\n",
    "test_image = image.img_to_array(test_image)\n",
    "test_image = np.expand_dims(test_image,axis=0)\n",
    "result = cnn.predict(test_image)\n",
    "training_set.class_indices"
   ]
  },
  {
   "cell_type": "code",
   "execution_count": 31,
   "id": "697ebd61",
   "metadata": {},
   "outputs": [
    {
     "name": "stdout",
     "output_type": "stream",
     "text": [
      "[[0. 0. 0. 0. 1.]]\n"
     ]
    }
   ],
   "source": [
    "print(result)"
   ]
  },
  {
   "cell_type": "code",
   "execution_count": 28,
   "id": "59d3a3c9",
   "metadata": {},
   "outputs": [
    {
     "name": "stdout",
     "output_type": "stream",
     "text": [
      "Tulip\n"
     ]
    }
   ],
   "source": [
    "if result[0][0]==1:\n",
    "    print('Daisy')\n",
    "elif result[0][1]==1:\n",
    "    print('Dandelion')\n",
    "elif result[0][2]==1:\n",
    "    print('Rose')\n",
    "elif result[0][3]==1:\n",
    "    print('SunFlower')\n",
    "elif result[0][4]==1:\n",
    "    print(\"Tulip\")"
   ]
  },
  {
   "cell_type": "code",
   "execution_count": 17,
   "id": "2a85320b",
   "metadata": {},
   "outputs": [],
   "source": [
    "# Initialize the webcam\n",
    "cap = cv2.VideoCapture(0)  # 0 corresponds to the default camera, adjust as needed\n",
    "\n",
    "while True:\n",
    "    # Capture a frame from the webcam\n",
    "    ret, frame = cap.read()\n",
    "    if not ret:\n",
    "        break\n",
    "\n",
    "    # Preprocess the frame\n",
    "    frame = cv2.resize(frame, (64, 64))\n",
    "    frame = frame / 255.0  # Normalize the pixel values\n",
    "    frame = np.expand_dims(frame, axis=0)\n",
    "\n",
    "    # Use your model to predict the class of the frame\n",
    "    result = cnn.predict(frame)\n",
    "\n",
    "    # Get the class label\n",
    "    class_index = np.argmax(result)\n",
    "    class_label = list(training_set.class_indices.keys())[class_index]\n",
    "\n",
    "    # Display the class label on the frame\n",
    "    cv2.putText(frame, class_label, (10, 30), cv2.FONT_HERSHEY_SIMPLEX, 1, (0, 255, 0), 2)\n",
    "    cv2.imshow('Webcam', frame)\n",
    "\n",
    "    # Exit the loop when the 'q' key is pressed\n",
    "    if cv2.waitKey(1) & 0xFF == ord('q'):\n",
    "        break\n",
    "\n",
    "# Release the webcam and close OpenCV windows\n",
    "cap.release()\n",
    "cv2.destroyAllWindows()\n"
   ]
  },
  {
   "cell_type": "code",
   "execution_count": null,
   "id": "e35c98d8",
   "metadata": {},
   "outputs": [],
   "source": []
  },
  {
   "cell_type": "code",
   "execution_count": null,
   "id": "0f2f61c6",
   "metadata": {},
   "outputs": [],
   "source": []
  }
 ],
 "metadata": {
  "kernelspec": {
   "display_name": "Python 3 (ipykernel)",
   "language": "python",
   "name": "python3"
  },
  "language_info": {
   "codemirror_mode": {
    "name": "ipython",
    "version": 3
   },
   "file_extension": ".py",
   "mimetype": "text/x-python",
   "name": "python",
   "nbconvert_exporter": "python",
   "pygments_lexer": "ipython3",
   "version": "3.11.4"
  }
 },
 "nbformat": 4,
 "nbformat_minor": 5
}
